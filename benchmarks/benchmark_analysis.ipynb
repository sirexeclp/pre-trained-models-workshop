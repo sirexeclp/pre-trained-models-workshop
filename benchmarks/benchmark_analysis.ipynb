{
 "cells": [
  {
   "cell_type": "code",
   "execution_count": null,
   "metadata": {},
   "outputs": [],
   "source": [
    "import pandas as pd\n",
    "import matplotlib.pyplot as plt\n",
    "from pathlib import Path\n",
    "plt.rcParams['figure.figsize'] = [8, 4.5]"
   ]
  },
  {
   "cell_type": "code",
   "execution_count": null,
   "metadata": {},
   "outputs": [],
   "source": [
    "data_root = Path(\"benchmarks/results/whisper_benchmark\")"
   ]
  },
  {
   "cell_type": "code",
   "execution_count": null,
   "metadata": {},
   "outputs": [],
   "source": [
    "datasets = {p.stem.removeprefix(\"NVIDIA\"): pd.read_csv(p) for p in data_root.glob(\"*.csv\")}"
   ]
  },
  {
   "cell_type": "code",
   "execution_count": null,
   "metadata": {},
   "outputs": [],
   "source": [
    "def prepare_data(datasets):\n",
    "    for dataset in datasets.values():\n",
    "        dataset.rename(columns={\"time\":\"Run Time [s]\", \"wer\": \"WER\", \"energy\": \"Energy [kJ]\", \"model_size\": \"Model Size\"}, inplace=True)\n",
    "        dataset[\"Energy [kJ]\"] = dataset[\"Energy [kJ]\"] / 1_000"
   ]
  },
  {
   "cell_type": "code",
   "execution_count": null,
   "metadata": {},
   "outputs": [],
   "source": [
    "prepare_data(datasets)"
   ]
  },
  {
   "cell_type": "code",
   "execution_count": null,
   "metadata": {},
   "outputs": [],
   "source": [
    "def plot_vars(datasets: dict, x,y,title, annotate=True, ax=None):\n",
    "    if ax is None:\n",
    "        fig, ax = plt.subplots()\n",
    "    markers_n_spacings = iter([(\"o\", 0.02), (\"^\",0.04), (\"x\", 0.04)])\n",
    "    for gpu, data in datasets.items():\n",
    "        marker, spacing = next(markers_n_spacings)\n",
    "        ax.plot(data[x] ,data[y] , marker, label=gpu)\n",
    "        #ax.set_title(\"Whisper \" + title)\n",
    "        ax.set_xlabel(x)\n",
    "        ax.set_ylabel(y)\n",
    "        #plt.ylim(bottom=0)\n",
    "        ax.legend()\n",
    "        if annotate:\n",
    "            max_x = data[x].max()\n",
    "            min_x = data[x].min()\n",
    "\n",
    "            for index, size in data[\"Model Size\"].items():\n",
    "                ax.annotate(size, (data[x][index] + spacing * (max_x - min_x) , data[y][index]), va=\"center\")\n",
    "    return ax"
   ]
  },
  {
   "cell_type": "code",
   "execution_count": null,
   "metadata": {},
   "outputs": [],
   "source": [
    "def plot_run_time_vs_wer(datasets: dict, ax=None):\n",
    "    return plot_vars(datasets, \"Run Time [s]\", \"WER\", \"Run Time vs. WER\",ax=ax)\n",
    "\n",
    "def plot_energy_vs_wer(datasets: dict, ax=None):\n",
    "    return plot_vars(datasets, \"Energy [kJ]\", \"WER\", \"Energy vs. WER\",ax=ax)\n",
    "\n",
    "def plot_run_time_vs_energy(datasets: dict, ax=None):\n",
    "    return plot_vars(datasets, \"Run Time [s]\", \"Energy [kJ]\", \"Run Time vs. Energy\",ax=ax)"
   ]
  },
  {
   "cell_type": "code",
   "execution_count": null,
   "metadata": {},
   "outputs": [],
   "source": [
    "plt.style.use(\"seaborn-v0_8-colorblind\")\n",
    "plt.style.use(\"seaborn-v0_8-talk\")\n",
    "fig, ax = plt.subplots(ncols=3,figsize=(24,4.5))\n",
    "plot_run_time_vs_wer(datasets, ax[0])\n",
    "plot_energy_vs_wer(datasets,ax[1])\n",
    "plot_run_time_vs_energy(datasets, ax[2])\n",
    "fig.tight_layout()"
   ]
  }
 ],
 "metadata": {
  "kernelspec": {
   "display_name": "venv",
   "language": "python",
   "name": "python3"
  },
  "language_info": {
   "codemirror_mode": {
    "name": "ipython",
    "version": 3
   },
   "file_extension": ".py",
   "mimetype": "text/x-python",
   "name": "python",
   "nbconvert_exporter": "python",
   "pygments_lexer": "ipython3",
   "version": "3.11.3"
  }
 },
 "nbformat": 4,
 "nbformat_minor": 2
}
